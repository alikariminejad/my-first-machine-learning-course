{
 "cells": [
  {
   "cell_type": "markdown",
   "metadata": {},
   "source": [
    "### IF Condition"
   ]
  },
  {
   "cell_type": "code",
   "execution_count": 2,
   "metadata": {},
   "outputs": [
    {
     "name": "stdout",
     "output_type": "stream",
     "text": [
      "The second number is bigger than the first number\n"
     ]
    }
   ],
   "source": [
    "x = int(input(\"Enter a number: \"))\n",
    "y = int(input(\"Enter another number: \"))\n",
    "if x>y:\n",
    "    print(\"The first number is bigger than the second number\")\n",
    "if y>x:\n",
    "    print(\"The second number is bigger than the first number\")\n",
    "if x==y:\n",
    "    print(\"The numbers are equal\")    "
   ]
  },
  {
   "cell_type": "markdown",
   "metadata": {},
   "source": [
    "### IF-Else Condition"
   ]
  },
  {
   "cell_type": "code",
   "execution_count": 5,
   "metadata": {},
   "outputs": [
    {
     "name": "stdout",
     "output_type": "stream",
     "text": [
      "y is bigger or equal to x\n",
      "else part\n"
     ]
    }
   ],
   "source": [
    "x = 12\n",
    "y  = 21\n",
    "if x > y:\n",
    "    print(\"x is bigger than y\")\n",
    "    print(\"if part\")\n",
    "else:\n",
    "    print(\"y is bigger or equal to x\")\n",
    "    print(\"else part\")"
   ]
  },
  {
   "cell_type": "markdown",
   "metadata": {},
   "source": [
    "### If-Elif-Else Condition"
   ]
  },
  {
   "cell_type": "code",
   "execution_count": 6,
   "metadata": {},
   "outputs": [
    {
     "name": "stdout",
     "output_type": "stream",
     "text": [
      "5\n"
     ]
    }
   ],
   "source": [
    "x = 3\n",
    "y = 5\n",
    "if x==y:\n",
    "    print(\"Equal\")\n",
    "elif x>y:\n",
    "    print(x)\n",
    "else:\n",
    "    print(y)        "
   ]
  },
  {
   "cell_type": "markdown",
   "metadata": {},
   "source": [
    "### Short form of Control Flow"
   ]
  },
  {
   "cell_type": "code",
   "execution_count": 10,
   "metadata": {},
   "outputs": [
    {
     "name": "stdout",
     "output_type": "stream",
     "text": [
      "Equal\n"
     ]
    }
   ],
   "source": [
    "x = 6\n",
    "y = 6\n",
    "print(\"X\") if x>y else print(\"Equal\") if x == y else print(\"Y\")"
   ]
  },
  {
   "cell_type": "markdown",
   "metadata": {},
   "source": [
    "### Multiple elif Conditions"
   ]
  },
  {
   "cell_type": "code",
   "execution_count": 11,
   "metadata": {},
   "outputs": [
    {
     "name": "stdout",
     "output_type": "stream",
     "text": [
      "B- grade\n"
     ]
    }
   ],
   "source": [
    "g = int(input(\"Enter your grade\"))\n",
    "if g >= 85:\n",
    "    print(\"A Grade\")\n",
    "elif (g < 85) and (g >= 80):\n",
    "    print(\"A- Grade\")  \n",
    "elif (g < 80) and (g >= 75):\n",
    "    print(\"B grade\")     \n",
    "elif (g < 75) and (g >= 70):\n",
    "    print(\"B- grade\")     \n",
    "else:\n",
    "    print(\"Below Average\")    "
   ]
  },
  {
   "cell_type": "markdown",
   "metadata": {},
   "source": [
    "### Nested If"
   ]
  },
  {
   "cell_type": "code",
   "execution_count": 15,
   "metadata": {},
   "outputs": [
    {
     "name": "stdout",
     "output_type": "stream",
     "text": [
      "Your number is above ten, \n",
      "but not above 20\n"
     ]
    }
   ],
   "source": [
    "x = int(input(\"Enter a number : \"))\n",
    "if x > 10:\n",
    "    print(\"Your number is above ten, \")\n",
    "    if x > 20:\n",
    "        print(\"and also is above 20!\")\n",
    "    else:\n",
    "        print(\"but not above 20\")   \n",
    "else:\n",
    "    print(\"Your number is less than ten!\")         "
   ]
  },
  {
   "cell_type": "markdown",
   "metadata": {},
   "source": [
    "### Loops(While)"
   ]
  },
  {
   "cell_type": "code",
   "execution_count": 17,
   "metadata": {},
   "outputs": [
    {
     "name": "stdout",
     "output_type": "stream",
     "text": [
      "Iteration number:  1\n",
      "1\n",
      "Iteration number:  2\n",
      "8\n",
      "Iteration number:  3\n",
      "27\n",
      "Loop is done\n"
     ]
    }
   ],
   "source": [
    "num = int(input(\"enter a positive number: \"))\n",
    "i = 1\n",
    "while i <= num:\n",
    "    print(\"Iteration number: \",i)\n",
    "    print(i**3)\n",
    "    i = i+1 #or i+=1\n",
    "print(\"Loop is done\")    \n",
    "    "
   ]
  },
  {
   "cell_type": "markdown",
   "metadata": {},
   "source": [
    "### Loops(While,break,continue)"
   ]
  },
  {
   "cell_type": "code",
   "execution_count": 7,
   "metadata": {},
   "outputs": [
    {
     "name": "stdout",
     "output_type": "stream",
     "text": [
      "1\n",
      "2\n",
      "3\n",
      "4\n",
      "break!\n",
      "done\n"
     ]
    }
   ],
   "source": [
    "n = 5\n",
    "i = 1\n",
    "while True:\n",
    "    if i%4 == 0:\n",
    "        print(i)\n",
    "        print(\"break!\")\n",
    "        break #stops the loop\n",
    "    else:\n",
    "        print(i)\n",
    "        i = i+1\n",
    "        continue\n",
    "    print(\"I am inside the loop\")\n",
    "print(\"done\")    \n",
    "\n",
    "\n"
   ]
  },
  {
   "cell_type": "markdown",
   "metadata": {},
   "source": [
    "### Control Flow(For Loop)"
   ]
  },
  {
   "cell_type": "code",
   "execution_count": 2,
   "metadata": {},
   "outputs": [
    {
     "name": "stdout",
     "output_type": "stream",
     "text": [
      "1\n",
      "3\n",
      "5\n",
      "7\n",
      "9\n",
      "[0, 8, 64, 216, 512]\n"
     ]
    }
   ],
   "source": [
    "L = []\n",
    "for i in range(0,10,2):\n",
    "    print(i+1)\n",
    "    L.append(i**3)\n",
    "print(L)    "
   ]
  },
  {
   "cell_type": "markdown",
   "metadata": {},
   "source": [
    "### Control Flow(else in for loops)"
   ]
  },
  {
   "cell_type": "code",
   "execution_count": 7,
   "metadata": {},
   "outputs": [
    {
     "name": "stdout",
     "output_type": "stream",
     "text": [
      "3\n",
      "cherry\n",
      "outside the loop\n"
     ]
    }
   ],
   "source": [
    "S = {'apple',3,'cherry'}\n",
    "i = 1\n",
    "for x in S:\n",
    "    print(x)\n",
    "    i+=1\n",
    "    if i==3:\n",
    "        break\n",
    "    else:\n",
    "        pass\n",
    "else:\n",
    "    print('Loop terminates with success')  \n",
    "print(\"outside the loop\")      "
   ]
  },
  {
   "cell_type": "markdown",
   "metadata": {},
   "source": [
    "### Control FLow(Exploring a Dictionary)"
   ]
  },
  {
   "cell_type": "code",
   "execution_count": 8,
   "metadata": {},
   "outputs": [
    {
     "name": "stdout",
     "output_type": "stream",
     "text": [
      "A 10\n",
      "B 20\n",
      "C aaaa\n"
     ]
    }
   ],
   "source": [
    "D = {'A':10,'B':20,'C':'aaaa'}\n",
    "for x in D:\n",
    "    print(x,D[x])"
   ]
  },
  {
   "cell_type": "markdown",
   "metadata": {},
   "source": [
    "### Solving a Problem"
   ]
  },
  {
   "cell_type": "code",
   "execution_count": 14,
   "metadata": {},
   "outputs": [
    {
     "name": "stdout",
     "output_type": "stream",
     "text": [
      "[-5, 1, 2, 2, 3, 4, 7, 9]\n"
     ]
    }
   ],
   "source": [
    "\"\"\"\n",
    "Given a list of numbers i.e. [1,2,4,-5,7,9,3,2], make another list\n",
    " that contains all the items in sorted order from min to max. i.e. your \n",
    " result will be another list like:[-5,1,2,2,3,7,9]\n",
    "\"\"\"\n",
    "\n",
    "#Answer\n",
    "L = [1,2,4,-5,7,9,3,2]\n",
    "for j in range(len(L)):\n",
    "    m = L[j]\n",
    "    idx = j\n",
    "    c = j\n",
    "    for i in range(j,len(L)):\n",
    "        if L[i]<m:\n",
    "            m = L[i]\n",
    "            idx = c\n",
    "        c+=1\n",
    "    tmp = L[j]    \n",
    "    L[j] = m\n",
    "    L[idx] = tmp\n",
    "print(L)    \n"
   ]
  }
 ],
 "metadata": {
  "interpreter": {
   "hash": "916dbcbb3f70747c44a77c7bcd40155683ae19c65e1c03b4aa3499c5328201f1"
  },
  "kernelspec": {
   "display_name": "Python 3.9.7 64-bit",
   "language": "python",
   "name": "python3"
  },
  "language_info": {
   "codemirror_mode": {
    "name": "ipython",
    "version": 3
   },
   "file_extension": ".py",
   "mimetype": "text/x-python",
   "name": "python",
   "nbconvert_exporter": "python",
   "pygments_lexer": "ipython3",
   "version": "3.9.7"
  },
  "orig_nbformat": 4
 },
 "nbformat": 4,
 "nbformat_minor": 2
}
